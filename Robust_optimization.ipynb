{
 "cells": [
  {
   "cell_type": "markdown",
   "metadata": {},
   "source": [
    "# Energy Portfolio Management for Sustainable Campus\n",
    "\n",
    "\n",
    "Add problem description..."
   ]
  },
  {
   "cell_type": "code",
   "execution_count": 1,
   "metadata": {},
   "outputs": [],
   "source": [
    "import cvxpy as cp\n",
    "import numpy as np\n",
    "import pandas as pd\n",
    "import matplotlib.pyplot as plt\n",
    "import matplotlib.dates as mdates\n",
    "import utils\n",
    "from datetime import datetime, timedelta"
   ]
  },
  {
   "cell_type": "markdown",
   "metadata": {},
   "source": [
    "## Parameters"
   ]
  },
  {
   "cell_type": "code",
   "execution_count": 2,
   "metadata": {},
   "outputs": [],
   "source": [
    "T = 96                                   # Number of periods\n",
    "nScenarios = 5                           # Number of scenarios\n",
    "\n",
    "# Contract prices\n",
    "P  = np.array([150, 360, 200, 50]) # Contract prices [$\\MW]\n",
    "pF = 18/4                          # option excercise fee [$\\MW(h\\4)]\n",
    "\n",
    "Cw = 20                            # Maximum wind generator capacity\n",
    "Cg = 10                            # Maximum gas generator capacity\n",
    "Cs = 1                             # Maximum solar generator capacity\n",
    "\n",
    "t = np.array(range(T))             # Periods\n",
    "h = t//4                           # Hour of the day\n",
    "peakHour = ((h>=8)*(h<18))         # Indicator for peak hour (8AM-6PM)\n",
    "\n",
    "pr = np.array([0.2, 0.2, 0.2, 0.2, 0.2]) # Probability of each scenario\n",
    "\n",
    "beta = 0.8"
   ]
  },
  {
   "cell_type": "markdown",
   "metadata": {},
   "source": [
    "We load the demand and generation data from each scenario"
   ]
  },
  {
   "cell_type": "code",
   "execution_count": 3,
   "metadata": {
    "scrolled": true
   },
   "outputs": [],
   "source": [
    "scenarios = [\"scenarios/Scenario1.csv\",\"scenarios/Scenario2.csv\",\n",
    "            \"scenarios/Scenario3.csv\",\"scenarios/Scenario4.csv\",\n",
    "            \"scenarios/Scenario5.csv\"]\n",
    "T = 96                                   # Number of periods\n",
    "nScenarios = 5                           # Number of scenarios\n",
    "demand = np.empty([T,nScenarios])\n",
    "windPF = np.empty([T,nScenarios])\n",
    "solarPF = np.empty([T,nScenarios])\n",
    "rtPrice = np.empty([T,nScenarios])\n",
    "\n",
    "for i in range(nScenarios):\n",
    "    scenario = pd.read_csv(scenarios[i])\n",
    "    demand[:,i] = scenario.iloc[:T,1]/1000\n",
    "    windPF[:,i] = scenario.iloc[:T,2]\n",
    "    solarPF[:,i] = scenario.iloc[:T,3]\n",
    "    rtPrice[:,i] = scenario.iloc[:T,4]/4"
   ]
  },
  {
   "cell_type": "markdown",
   "metadata": {},
   "source": [
    "## Problem formulation\n",
    "\n",
    "We will write the problem in matrix form as:\n",
    "$$\\min_{x,y,\\alpha,M} \\alpha + \\sum_{\\omega}M_{\\omega},\\,\\,\\mbox{s.t.}\\, Ax\\leq By+C,\\, Dy\\leq E, M_{\\omega}\\geq P'y+{R_{\\omega}}'x-\\alpha $$\n",
    "\n",
    "For the definition of the matrices $A, B, C, D, E$ and $P$, and decision variables $x$ and $y$, please refer to the jupyter notebook named \"Cost_Minimization\" or to the project report. Here we'll focus on $\\alpha, M$ and $R_{\\omega}$.\n",
    "\n",
    "The matrix $R_{\\omega}$ contains the vector of prices in scenario $\\omega$, and $0$ in scenarios different than $\\omega$. This allows us to write the total cost in scenario $\\omega$ as\n",
    "$$P'y+{R_{\\omega}}'x.$$\n",
    "\n",
    "The variable $\\alpha$ is the cost in the second worst case scenario. This implies that the objective function\n",
    "$$\\alpha + \\sum_{\\omega}M_{\\omega}$$\n",
    "is exactly equal to the worst case cost. The variables $M_{\\omega}$ help formulating the optimization problem. In particular, they help us implementing the non-linear function $[\\cdot]^+$ \"positive part of\" using only linear constraints. At the optimal solution, we expect all $M_{\\omega}$ to be zero, except in the worst case scenario."
   ]
  },
  {
   "cell_type": "code",
   "execution_count": 4,
   "metadata": {},
   "outputs": [],
   "source": [
    "# Decision variables\n",
    "x = cp.Variable(2*T*nScenarios)\n",
    "y = cp.Variable(4,nonneg = True)\n",
    "M = cp.Variable(nScenarios,nonneg = True)\n",
    "alpha = cp.Variable(1)"
   ]
  },
  {
   "cell_type": "code",
   "execution_count": 5,
   "metadata": {},
   "outputs": [],
   "source": [
    "# Constraints\n",
    "\n",
    "# Matrices A, B and C\n",
    "\n",
    "A = np.zeros([3*T*nScenarios,2*T*nScenarios])\n",
    "B = np.zeros([3*T*nScenarios,4])\n",
    "C = np.zeros([3*T*nScenarios,1])\n",
    "\n",
    "# Matrices R_{\\omega}\n",
    "Rs1 = np.zeros([2*T*nScenarios,1])\n",
    "Rs2 = np.zeros([2*T*nScenarios,1])\n",
    "Rs3 = np.zeros([2*T*nScenarios,1])\n",
    "Rs4 = np.zeros([2*T*nScenarios,1])\n",
    "Rs5 = np.zeros([2*T*nScenarios,1])\n",
    "\n",
    "# First set of constraints x^o_{wt} \\leq y_4\n",
    "A[:(T*nScenarios),:(T*nScenarios)] = np.identity(T*nScenarios)\n",
    "B[:(T*nScenarios),3] = 1 \n",
    "\n",
    "# Second set of constraints x^o_{wt} \\geq 0\n",
    "A[(T*nScenarios):(2*T*nScenarios),\n",
    "  :(T*nScenarios)] = -np.identity(T*nScenarios)\n",
    "\n",
    "for i in range(nScenarios):\n",
    "      \n",
    "    # Third set of constraints \n",
    "    # -x^o_{wt}-x^m_{wt} \\leq -demand + solar + wind + base_load + peak_load\n",
    "    A[(2*T*nScenarios+T*i):(2*T*nScenarios+T*(i+1)),\n",
    "     (T*i):(T*(i+1))] = - np.identity(T) \n",
    "    \n",
    "    A[(2*T*nScenarios+T*i):(2*T*nScenarios+T*(i+1)),\n",
    "     (T*nScenarios+T*i):(T*nScenarios+T*(i+1))] = - np.identity(T) \n",
    "    \n",
    "    B[(2*T*nScenarios+T*i):\n",
    "      (2*T*nScenarios+T*(i+1)),0] = (windPF[:,i])\n",
    "    \n",
    "    B[(2*T*nScenarios+T*i):\n",
    "      (2*T*nScenarios+T*(i+1)),1] = np.ones(T)\n",
    "    \n",
    "    B[(2*T*nScenarios+T*i):\n",
    "      (2*T*nScenarios+T*(i+1)),2] = peakHour\n",
    "    \n",
    "    C[(2*T*nScenarios+T*i):\n",
    "      (2*T*nScenarios+T*(i+1)),0] =  Cs*solarPF[:,i]-demand[:,i]\n",
    "    \n",
    "    \n",
    "    # Costs in bjective function Q1: option fee, Q2: market price\n",
    "    R1 = np.ones((T,1))*pF\n",
    "    R2 = rtPrice[:,i]\n",
    "    \n",
    "    if (i == 0):\n",
    "        Rs1[(T*i):(T*(i+1)),:] = R1\n",
    "        Rs1[(T*nScenarios+T*i):(T*nScenarios+T*(i+1)),:] = R2.reshape((T, 1))\n",
    "    elif (i == 1):\n",
    "        Rs2[(T*i):(T*(i+1)),:] = R1\n",
    "        Rs2[(T*nScenarios+T*i):(T*nScenarios+T*(i+1)),:] = R2.reshape((T, 1))\n",
    "    elif (i == 2):\n",
    "        Rs3[(T*i):(T*(i+1)),:] = R1\n",
    "        Rs3[(T*nScenarios+T*i):(T*nScenarios+T*(i+1)),:] = R2.reshape((T, 1))\n",
    "    elif (i == 3):\n",
    "        Rs4[(T*i):(T*(i+1)),:] = R1\n",
    "        Rs4[(T*nScenarios+T*i):(T*nScenarios+T*(i+1)),:] = R2.reshape((T, 1))\n",
    "    elif (i == 4):\n",
    "        Rs5[(T*i):(T*(i+1)),:] = R1\n",
    "        Rs5[(T*nScenarios+T*i):(T*nScenarios+T*(i+1)),:] = R2.reshape((T, 1))\n",
    "    "
   ]
  },
  {
   "cell_type": "markdown",
   "metadata": {},
   "source": [
    "The matrices $D$ and $E$ codify two constraints:\n",
    "* Gas generator capacity $$y_1+y_2+y_3\\leq C^g$$\n",
    "* Wind generator capacity $$y_0\\leq C^w$$"
   ]
  },
  {
   "cell_type": "code",
   "execution_count": 6,
   "metadata": {},
   "outputs": [],
   "source": [
    "# Matrices D and E\n",
    "D = np.array([[0,1,1,1],[1,0,0,0]])\n",
    "E = np.array([[Cg],[Cw]])"
   ]
  },
  {
   "cell_type": "markdown",
   "metadata": {},
   "source": [
    "The objective function minimizes costs"
   ]
  },
  {
   "cell_type": "code",
   "execution_count": 7,
   "metadata": {},
   "outputs": [],
   "source": [
    "obj = cp.Minimize(alpha + sum(M))"
   ]
  },
  {
   "cell_type": "markdown",
   "metadata": {},
   "source": [
    "We add the constraints"
   ]
  },
  {
   "cell_type": "code",
   "execution_count": 8,
   "metadata": {},
   "outputs": [],
   "source": [
    "# Initialize an empty constraint set\n",
    "con_set_1 = [] \n",
    "\n",
    "con_set_1.append(A@x <= B@y + C.flatten())\n",
    "con_set_1.append(D@y <= E.flatten())\n",
    "\n",
    "con_set_1.append(M[0] >= P@y + np.transpose(Rs1)@x - alpha)\n",
    "con_set_1.append(M[1] >= P@y + np.transpose(Rs2)@x - alpha)\n",
    "con_set_1.append(M[2] >= P@y + np.transpose(Rs3)@x - alpha)\n",
    "con_set_1.append(M[3] >= P@y + np.transpose(Rs4)@x - alpha)\n",
    "con_set_1.append(M[4] >= P@y + np.transpose(Rs5)@x - alpha)"
   ]
  },
  {
   "cell_type": "markdown",
   "metadata": {},
   "source": [
    "Now we solve the optimization problem"
   ]
  },
  {
   "cell_type": "code",
   "execution_count": 9,
   "metadata": {},
   "outputs": [
    {
     "name": "stdout",
     "output_type": "stream",
     "text": [
      "Academic license - for non-commercial use only - expires 2022-01-02\n",
      "Using license file C:\\Users\\Rob\\gurobi.lic\n"
     ]
    }
   ],
   "source": [
    "prob1 = cp.Problem(obj, con_set_1)\n",
    "prob1.solve(solver = \"GUROBI\")\n",
    "prob1.solve();"
   ]
  },
  {
   "cell_type": "code",
   "execution_count": 10,
   "metadata": {},
   "outputs": [
    {
     "name": "stdout",
     "output_type": "stream",
     "text": [
      "\n",
      " The optimal wind capacity is: 0.0\n",
      "\n",
      " The optimal base capacity from the gas generator is: 10.0\n",
      "\n",
      " The optimal peak capacity from the gas generator is: 0.0\n",
      "\n",
      " The optimal load following capacity from the gas generator is: 0.0\n",
      "\n",
      " alpha = 3021.2\n",
      "\n",
      " M[0] = 0.0\n",
      "\n",
      " M[1] = 0.0\n",
      "\n",
      " M[2] = 0.2\n",
      "\n",
      " M[3] = 0.0\n",
      "\n",
      " M[4] = 0.0\n"
     ]
    }
   ],
   "source": [
    "print(\"\\n The optimal wind capacity is: %.1f\" % (y[0].value))\n",
    "print(\"\\n The optimal base capacity from the gas generator is: %.1f\" % (y[1].value))\n",
    "print(\"\\n The optimal peak capacity from the gas generator is: %.1f\" % (y[2].value))\n",
    "print(\"\\n The optimal load following capacity from the gas generator is: %.1f\" % (y[3].value))\n",
    "print(\"\\n alpha = %.1f\" % (alpha.value))\n",
    "for i in range(nScenarios):\n",
    "    print(\"\\n M[\"+ str(i) +\"] = %.1f\" % (M[i].value))"
   ]
  },
  {
   "cell_type": "code",
   "execution_count": 11,
   "metadata": {},
   "outputs": [
    {
     "data": {
      "text/html": [
       "<div>\n",
       "<style scoped>\n",
       "    .dataframe tbody tr th:only-of-type {\n",
       "        vertical-align: middle;\n",
       "    }\n",
       "\n",
       "    .dataframe tbody tr th {\n",
       "        vertical-align: top;\n",
       "    }\n",
       "\n",
       "    .dataframe thead th {\n",
       "        text-align: right;\n",
       "    }\n",
       "</style>\n",
       "<table border=\"1\" class=\"dataframe\">\n",
       "  <thead>\n",
       "    <tr style=\"text-align: right;\">\n",
       "      <th></th>\n",
       "      <th>Demand_s1</th>\n",
       "      <th>GasBase_s1</th>\n",
       "      <th>GasOption_s1</th>\n",
       "      <th>GasPeak_s1</th>\n",
       "      <th>SolarPower_s1</th>\n",
       "      <th>SpotMarket_s1</th>\n",
       "      <th>WindPower_s1</th>\n",
       "      <th>Demand_s2</th>\n",
       "      <th>GasBase_s2</th>\n",
       "      <th>GasOption_s2</th>\n",
       "      <th>...</th>\n",
       "      <th>SolarPower_s4</th>\n",
       "      <th>SpotMarket_s4</th>\n",
       "      <th>WindPower_s4</th>\n",
       "      <th>Demand_s5</th>\n",
       "      <th>GasBase_s5</th>\n",
       "      <th>GasOption_s5</th>\n",
       "      <th>GasPeak_s5</th>\n",
       "      <th>SolarPower_s5</th>\n",
       "      <th>SpotMarket_s5</th>\n",
       "      <th>WindPower_s5</th>\n",
       "    </tr>\n",
       "    <tr>\n",
       "      <th>Time</th>\n",
       "      <th></th>\n",
       "      <th></th>\n",
       "      <th></th>\n",
       "      <th></th>\n",
       "      <th></th>\n",
       "      <th></th>\n",
       "      <th></th>\n",
       "      <th></th>\n",
       "      <th></th>\n",
       "      <th></th>\n",
       "      <th></th>\n",
       "      <th></th>\n",
       "      <th></th>\n",
       "      <th></th>\n",
       "      <th></th>\n",
       "      <th></th>\n",
       "      <th></th>\n",
       "      <th></th>\n",
       "      <th></th>\n",
       "      <th></th>\n",
       "      <th></th>\n",
       "    </tr>\n",
       "  </thead>\n",
       "  <tbody>\n",
       "    <tr>\n",
       "      <th>2021-01-01 00:00:00</th>\n",
       "      <td>7.37568</td>\n",
       "      <td>10.0</td>\n",
       "      <td>1.293079e-11</td>\n",
       "      <td>0.0</td>\n",
       "      <td>0.0</td>\n",
       "      <td>-2.479565</td>\n",
       "      <td>0.0</td>\n",
       "      <td>7.48512</td>\n",
       "      <td>10.0</td>\n",
       "      <td>1.270080e-11</td>\n",
       "      <td>...</td>\n",
       "      <td>0.0</td>\n",
       "      <td>-2.309708</td>\n",
       "      <td>0.0</td>\n",
       "      <td>7.58880</td>\n",
       "      <td>10.0</td>\n",
       "      <td>1.224442e-11</td>\n",
       "      <td>0.0</td>\n",
       "      <td>0.0</td>\n",
       "      <td>-2.088310</td>\n",
       "      <td>0.0</td>\n",
       "    </tr>\n",
       "    <tr>\n",
       "      <th>2021-01-01 00:15:00</th>\n",
       "      <td>7.31808</td>\n",
       "      <td>10.0</td>\n",
       "      <td>1.307240e-11</td>\n",
       "      <td>0.0</td>\n",
       "      <td>0.0</td>\n",
       "      <td>-2.542559</td>\n",
       "      <td>0.0</td>\n",
       "      <td>7.43328</td>\n",
       "      <td>10.0</td>\n",
       "      <td>1.280251e-11</td>\n",
       "      <td>...</td>\n",
       "      <td>0.0</td>\n",
       "      <td>-2.351044</td>\n",
       "      <td>0.0</td>\n",
       "      <td>7.51968</td>\n",
       "      <td>10.0</td>\n",
       "      <td>1.287063e-11</td>\n",
       "      <td>0.0</td>\n",
       "      <td>0.0</td>\n",
       "      <td>-2.205756</td>\n",
       "      <td>0.0</td>\n",
       "    </tr>\n",
       "    <tr>\n",
       "      <th>2021-01-01 00:30:00</th>\n",
       "      <td>7.32960</td>\n",
       "      <td>10.0</td>\n",
       "      <td>1.283607e-11</td>\n",
       "      <td>0.0</td>\n",
       "      <td>0.0</td>\n",
       "      <td>-2.521778</td>\n",
       "      <td>0.0</td>\n",
       "      <td>7.42464</td>\n",
       "      <td>10.0</td>\n",
       "      <td>1.269805e-11</td>\n",
       "      <td>...</td>\n",
       "      <td>0.0</td>\n",
       "      <td>-2.376822</td>\n",
       "      <td>0.0</td>\n",
       "      <td>7.49376</td>\n",
       "      <td>10.0</td>\n",
       "      <td>1.250687e-11</td>\n",
       "      <td>0.0</td>\n",
       "      <td>0.0</td>\n",
       "      <td>-2.216094</td>\n",
       "      <td>0.0</td>\n",
       "    </tr>\n",
       "    <tr>\n",
       "      <th>2021-01-01 00:45:00</th>\n",
       "      <td>7.32960</td>\n",
       "      <td>10.0</td>\n",
       "      <td>1.244785e-11</td>\n",
       "      <td>0.0</td>\n",
       "      <td>0.0</td>\n",
       "      <td>-2.499313</td>\n",
       "      <td>0.0</td>\n",
       "      <td>7.37568</td>\n",
       "      <td>10.0</td>\n",
       "      <td>1.272646e-11</td>\n",
       "      <td>...</td>\n",
       "      <td>0.0</td>\n",
       "      <td>-2.378160</td>\n",
       "      <td>0.0</td>\n",
       "      <td>7.46208</td>\n",
       "      <td>10.0</td>\n",
       "      <td>1.215857e-11</td>\n",
       "      <td>0.0</td>\n",
       "      <td>0.0</td>\n",
       "      <td>-2.200484</td>\n",
       "      <td>0.0</td>\n",
       "    </tr>\n",
       "    <tr>\n",
       "      <th>2021-01-01 01:00:00</th>\n",
       "      <td>7.28064</td>\n",
       "      <td>10.0</td>\n",
       "      <td>1.279455e-11</td>\n",
       "      <td>0.0</td>\n",
       "      <td>0.0</td>\n",
       "      <td>-2.568962</td>\n",
       "      <td>0.0</td>\n",
       "      <td>7.35552</td>\n",
       "      <td>10.0</td>\n",
       "      <td>1.279884e-11</td>\n",
       "      <td>...</td>\n",
       "      <td>0.0</td>\n",
       "      <td>-2.381653</td>\n",
       "      <td>0.0</td>\n",
       "      <td>7.40736</td>\n",
       "      <td>10.0</td>\n",
       "      <td>1.207395e-11</td>\n",
       "      <td>0.0</td>\n",
       "      <td>0.0</td>\n",
       "      <td>-2.237850</td>\n",
       "      <td>0.0</td>\n",
       "    </tr>\n",
       "  </tbody>\n",
       "</table>\n",
       "<p>5 rows × 35 columns</p>\n",
       "</div>"
      ],
      "text/plain": [
       "                     Demand_s1  GasBase_s1  GasOption_s1  GasPeak_s1  \\\n",
       "Time                                                                   \n",
       "2021-01-01 00:00:00    7.37568        10.0  1.293079e-11         0.0   \n",
       "2021-01-01 00:15:00    7.31808        10.0  1.307240e-11         0.0   \n",
       "2021-01-01 00:30:00    7.32960        10.0  1.283607e-11         0.0   \n",
       "2021-01-01 00:45:00    7.32960        10.0  1.244785e-11         0.0   \n",
       "2021-01-01 01:00:00    7.28064        10.0  1.279455e-11         0.0   \n",
       "\n",
       "                     SolarPower_s1  SpotMarket_s1  WindPower_s1  Demand_s2  \\\n",
       "Time                                                                         \n",
       "2021-01-01 00:00:00            0.0      -2.479565           0.0    7.48512   \n",
       "2021-01-01 00:15:00            0.0      -2.542559           0.0    7.43328   \n",
       "2021-01-01 00:30:00            0.0      -2.521778           0.0    7.42464   \n",
       "2021-01-01 00:45:00            0.0      -2.499313           0.0    7.37568   \n",
       "2021-01-01 01:00:00            0.0      -2.568962           0.0    7.35552   \n",
       "\n",
       "                     GasBase_s2  GasOption_s2      ...       SolarPower_s4  \\\n",
       "Time                                               ...                       \n",
       "2021-01-01 00:00:00        10.0  1.270080e-11      ...                 0.0   \n",
       "2021-01-01 00:15:00        10.0  1.280251e-11      ...                 0.0   \n",
       "2021-01-01 00:30:00        10.0  1.269805e-11      ...                 0.0   \n",
       "2021-01-01 00:45:00        10.0  1.272646e-11      ...                 0.0   \n",
       "2021-01-01 01:00:00        10.0  1.279884e-11      ...                 0.0   \n",
       "\n",
       "                     SpotMarket_s4  WindPower_s4  Demand_s5  GasBase_s5  \\\n",
       "Time                                                                      \n",
       "2021-01-01 00:00:00      -2.309708           0.0    7.58880        10.0   \n",
       "2021-01-01 00:15:00      -2.351044           0.0    7.51968        10.0   \n",
       "2021-01-01 00:30:00      -2.376822           0.0    7.49376        10.0   \n",
       "2021-01-01 00:45:00      -2.378160           0.0    7.46208        10.0   \n",
       "2021-01-01 01:00:00      -2.381653           0.0    7.40736        10.0   \n",
       "\n",
       "                     GasOption_s5  GasPeak_s5  SolarPower_s5  SpotMarket_s5  \\\n",
       "Time                                                                          \n",
       "2021-01-01 00:00:00  1.224442e-11         0.0            0.0      -2.088310   \n",
       "2021-01-01 00:15:00  1.287063e-11         0.0            0.0      -2.205756   \n",
       "2021-01-01 00:30:00  1.250687e-11         0.0            0.0      -2.216094   \n",
       "2021-01-01 00:45:00  1.215857e-11         0.0            0.0      -2.200484   \n",
       "2021-01-01 01:00:00  1.207395e-11         0.0            0.0      -2.237850   \n",
       "\n",
       "                     WindPower_s5  \n",
       "Time                               \n",
       "2021-01-01 00:00:00           0.0  \n",
       "2021-01-01 00:15:00           0.0  \n",
       "2021-01-01 00:30:00           0.0  \n",
       "2021-01-01 00:45:00           0.0  \n",
       "2021-01-01 01:00:00           0.0  \n",
       "\n",
       "[5 rows x 35 columns]"
      ]
     },
     "execution_count": 11,
     "metadata": {},
     "output_type": "execute_result"
    }
   ],
   "source": [
    "data_all = utils.GetAllVariables(x,y,demand,windPF,solarPF,Cs,nScenarios,peakHour,rtPrice,T)\n",
    "\n",
    "data_all.to_csv(\"outputs/Results_min_worst_case_cost.csv\")\n",
    "\n",
    "data_all.head()"
   ]
  },
  {
   "cell_type": "code",
   "execution_count": 12,
   "metadata": {},
   "outputs": [
    {
     "data": {
      "image/png": "[encoded data removed]",
      "text/plain": [
       "<matplotlib.figure.Figure at 0x25e88961710>"
      ]
     },
     "metadata": {},
     "output_type": "display_data"
    }
   ],
   "source": [
    "utils.PlotEnergyMix(x,y,demand,windPF,solarPF,Cs,nScenarios,peakHour,rtPrice,T,\"outputs/min_worst_case_cost\")"
   ]
  },
  {
   "cell_type": "code",
   "execution_count": 13,
   "metadata": {
    "scrolled": true
   },
   "outputs": [
    {
     "data": {
      "text/plain": [
       "3021.488830800816"
      ]
     },
     "execution_count": 13,
     "metadata": {},
     "output_type": "execute_result"
    }
   ],
   "source": [
    "obj.value"
   ]
  }
 ],
 "metadata": {
  "kernelspec": {
   "display_name": "Python 3",
   "language": "python",
   "name": "python3"
  },
  "language_info": {
   "codemirror_mode": {
    "name": "ipython",
    "version": 3
   },
   "file_extension": ".py",
   "mimetype": "text/x-python",
   "name": "python",
   "nbconvert_exporter": "python",
   "pygments_lexer": "ipython3",
   "version": "3.6.4"
  }
 },
 "nbformat": 4,
 "nbformat_minor": 5
}
