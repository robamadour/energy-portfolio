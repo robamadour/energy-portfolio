{
 "cells": [
  {
   "cell_type": "markdown",
   "metadata": {},
   "source": [
    "# Energy Portfolio Management for Sustainable Campus\n",
    "\n",
    "\n",
    "Add problem description..."
   ]
  },
  {
   "cell_type": "code",
   "execution_count": 1,
   "metadata": {},
   "outputs": [],
   "source": [
    "import cvxpy as cp\n",
    "import numpy as np\n",
    "import pandas as pd\n",
    "import matplotlib.pyplot as plt\n",
    "import matplotlib.dates as mdates\n",
    "import utils\n",
    "from datetime import datetime, timedelta"
   ]
  },
  {
   "cell_type": "markdown",
   "metadata": {},
   "source": [
    "## Parameters"
   ]
  },
  {
   "cell_type": "code",
   "execution_count": 2,
   "metadata": {},
   "outputs": [],
   "source": [
    "T = 96                                   # Number of periods\n",
    "nScenarios = 5                           # Number of scenarios\n",
    "\n",
    "# Contract prices\n",
    "P  = np.array([150, 360, 200, 50]) # Contract prices [$\\MW]\n",
    "pF = 18/4                          # option excercise fee [$\\MW(h\\4)]\n",
    "\n",
    "Cw = 20                            # Maximum wind generator capacity\n",
    "Cg = 10                            # Maximum gas generator capacity\n",
    "Cs = 1                             # Maximum solar generator capacity\n",
    "\n",
    "t = np.array(range(T))             # Periods\n",
    "h = t//4                           # Hour of the day\n",
    "peakHour = ((h>=8)*(h<18))         # Indicator for peak hour (8AM-6PM)\n",
    "\n",
    "pr = np.array([0.2, 0.2, 0.2, 0.2, 0.2]) # Probability of each scenario"
   ]
  },
  {
   "cell_type": "markdown",
   "metadata": {},
   "source": [
    "We load the demand and generation data from each scenario"
   ]
  },
  {
   "cell_type": "code",
   "execution_count": 3,
   "metadata": {
    "scrolled": true
   },
   "outputs": [],
   "source": [
    "scenarios = [\"scenarios/Scenario1.csv\",\"scenarios/Scenario2.csv\",\n",
    "            \"scenarios/Scenario3.csv\",\"scenarios/Scenario4.csv\",\n",
    "            \"scenarios/Scenario5.csv\"]\n",
    "T = 96                                   # Number of periods\n",
    "nScenarios = 5                           # Number of scenarios\n",
    "demand = np.empty([T,nScenarios])\n",
    "windPF = np.empty([T,nScenarios])\n",
    "solarPF = np.empty([T,nScenarios])\n",
    "rtPrice = np.empty([T,nScenarios])\n",
    "\n",
    "for i in range(nScenarios):\n",
    "    scenario = pd.read_csv(scenarios[i])\n",
    "    demand[:,i] = scenario.iloc[:T,1]/1000\n",
    "    windPF[:,i] = scenario.iloc[:T,2]\n",
    "    solarPF[:,i] = scenario.iloc[:T,3]\n",
    "    rtPrice[:,i] = scenario.iloc[:T,4]/4"
   ]
  },
  {
   "cell_type": "markdown",
   "metadata": {},
   "source": [
    "## Decision variables\n",
    "\n",
    "The decision variables are of two types:\n",
    "* $y$: The amount of capacity to buy from each contract. Specifically, $y=(y_0,y_1,y_2,y_3)$, where $y_0$ is wind generation, $y_1$ is base load service, $y_2$ is peak load service and $y_3$ is load following sercice.\n",
    "* $x$: The power to buy/sold in the operation day. $x$ specifies values for each scenario and each period. Specifically, let $x^o_{\\omega t}$ be the amount of power to but from the option call contract in scenario $\\omega$ and period $t$, and let $x_{\\omega t}^m$ be the amount of power to buy/sell in the spot market in order to balance demand and generation. We stack these variables in vectors as $$x^o = (\\underbrace{x^o_{11},\\dots,x^o_{1t},\\dots,x^o_{1T},}_{scenario \\,\\,1}\\dots,\\underbrace{x^o_{51},\\dots,x^o_{5t},\\dots,x^o_{5T}}_{scenario\\,\\, 5})$$ and\n",
    "$$x^m = (\\underbrace{x^o_{11},\\dots,x^m_{1t},\\dots,x^m_{1T},}_{scenario \\,\\,1}\\dots,\\underbrace{x^m_{51},\\dots,x^m_{5t},\\dots,x^m_{5T}}_{scenario\\,\\, 5}).$$ And then we stack all the valiable into one vector: $$x = (x^o,x^m)^t.$$"
   ]
  },
  {
   "cell_type": "code",
   "execution_count": 4,
   "metadata": {},
   "outputs": [],
   "source": [
    "x = cp.Variable(2*T*nScenarios)\n",
    "y = cp.Variable(4,nonneg = True)"
   ]
  },
  {
   "cell_type": "markdown",
   "metadata": {},
   "source": [
    "## Constraints and Objective function\n",
    "\n",
    "We will write the problem in matrix form as:\n",
    "$$\\min_{x,y} P^ty + Q^tx,\\,\\,\\mbox{s.t.}\\, Ax\\leq By+C,\\, Dy\\leq E $$\n",
    "\n",
    "### Objective function\n",
    "The vector $Q$ contains two sub-vectors $Q=(Q_1,Q_2)$ so that $Q^tx=Q_1^tx^o+Q_2^tx^m$.\n",
    "\n",
    "We define $$Q_1 = pF(\\underbrace{Pr_{1},\\dots,Pr_1}_{T\\,\\, times},\\dots,\\underbrace{Pr_{5},\\dots,Pr_5}_{T\\,\\, times}),$$\n",
    "where $pF$ is the option exercise fee and $Pr_{\\omega}$ is the probability of scenario $\\omega$. For $Q_2$ we have\n",
    "$$Q_2 = (Pr_{1}p_{11},\\dots,Pr_1p_{1T},\\dots,Pr_{5}p_{51},\\dots,Pr_5p_{5T}),$$\n",
    "where $p_{\\omega t}$ is the real time price in scenario $\\omega$ at time $t$.\n",
    "\n",
    "The vector $P$ contains the capacity prices for each contract.\n",
    "\n",
    "### Constraints\n",
    "\n",
    "The matrices A,B and C are defined by three blocks: $A = [A_1^t,A_2^t,A_3^t]^t$, $B = [B_1^t,B_2^t,B_3^t]^t$ and $C = [C_1^t,C_2^t,C_3^t]^t$.\n",
    "\n",
    "The first block codifies the inequality constraint $$x^o_{\\omega t}\\leq y_3,$$\n",
    "so we define $$A_1 = [I_{(5T,5T)}, 0_{(5T,5T)}],$$\n",
    "$$B_1 = [0_{(5T,3)}, 1_{(5T,1)}],\\,\\, C_1 = 0_{(5T,1)}$$\n",
    "where $I_{(5T,5T)}$ is the identity matrix of dimension $5T$ (number of scenarios times the number of periods), and $0_{(n1,n2)},1_{(n1,n2)}$ are matrices of zeros and ones respectively. \n",
    "\n",
    "The second block codifies the nonnegativity constraint\n",
    "$$x^o_{\\omega t}\\geq 0,$$\n",
    "so, \n",
    "$$A_2 = -[I_{(5T,5T)}, 0_{(5T,5T)}],$$\n",
    "$$B_2 = 0_{(5T,4)},\\,\\, C_1 = 0_{(5T,1)}$$\n",
    "\n",
    "And the third block codifies the market balance constraint\n",
    "$$demand_{\\omega t} \\leq x^o_{\\omega t}+ x^m_{\\omega t} + \\underbrace{y_0f^w_{\\omega t}}_{wind\\,power}+\\underbrace{y_1}_{base\\,power}\n",
    "+\\underbrace{y_2\\delta_{t}}_{peak\\,power}+\\underbrace{C^sf^s_{\\omega t}}_{solar\\,power},$$\n",
    "where $f^w_{\\omega t}$, $f^s_{\\omega t}$ are the wind and solar power factors, $C^s$ is solar capacity (1 MW), the peak hour indicator $\\delta_t$ is 1 if $t$ is between 8AM and 6PM.\n",
    "We define \n",
    "$$A_3 = -[I_{(5T,5T)}, I_{(5T,5T)}],$$\n",
    "$$B_3 = [f^w ,1_{(5T,1)},\\Delta,0],\\,\\, C_3 = C^sf^s-Demand$$\n",
    "\n",
    "where $f^w$, $f^s$, $Demand$ and $\\Delta$ are the vectors of power factors, demand and peak hour indicators in each scenario and period pair."
   ]
  },
  {
   "cell_type": "code",
   "execution_count": 5,
   "metadata": {},
   "outputs": [],
   "source": [
    "# Matrices Q, A, B and C\n",
    "Q = np.empty([2*T*nScenarios,1])\n",
    "A = np.zeros([3*T*nScenarios,2*T*nScenarios])\n",
    "B = np.zeros([3*T*nScenarios,4])\n",
    "C = np.zeros([3*T*nScenarios,1])\n",
    "\n",
    "# First set of constraints x^o_{wt} \\leq y_4\n",
    "A[:(T*nScenarios),:(T*nScenarios)] = np.identity(T*nScenarios)\n",
    "B[:(T*nScenarios),3] = 1 \n",
    "\n",
    "# Second set of constraints x^o_{wt} \\geq 0\n",
    "A[(T*nScenarios):(2*T*nScenarios),\n",
    "  :(T*nScenarios)] = -np.identity(T*nScenarios)\n",
    "\n",
    "for i in range(nScenarios):\n",
    "    \n",
    "    # Costs in bjective function Q1: option fee, Q2: market price\n",
    "    Q1 = np.ones((T,1))*pr[i]*pF\n",
    "    Q2 = rtPrice[:,i]*pr[i]\n",
    "    Q[(T*i):(T*(i+1)),:] = Q1\n",
    "    Q[(T*nScenarios+T*i):(T*nScenarios+T*(i+1)),:] = Q2.reshape((T, 1))\n",
    "    \n",
    "    # Third set of constraints \n",
    "    # -x^o_{wt}-x^m_{wt} \\leq -demand + solar + wind + base_load + peak_load\n",
    "    A[(2*T*nScenarios+T*i):(2*T*nScenarios+T*(i+1)),\n",
    "     (T*i):(T*(i+1))] = - np.identity(T) \n",
    "    \n",
    "    A[(2*T*nScenarios+T*i):(2*T*nScenarios+T*(i+1)),\n",
    "     (T*nScenarios+T*i):(T*nScenarios+T*(i+1))] = - np.identity(T) \n",
    "    \n",
    "    B[(2*T*nScenarios+T*i):\n",
    "      (2*T*nScenarios+T*(i+1)),0] = (windPF[:,i])\n",
    "    \n",
    "    B[(2*T*nScenarios+T*i):\n",
    "      (2*T*nScenarios+T*(i+1)),1] = np.ones(T)\n",
    "    \n",
    "    B[(2*T*nScenarios+T*i):\n",
    "      (2*T*nScenarios+T*(i+1)),2] = peakHour\n",
    "    \n",
    "    C[(2*T*nScenarios+T*i):\n",
    "      (2*T*nScenarios+T*(i+1)),0] =  Cs*solarPF[:,i]-demand[:,i]\n",
    "    "
   ]
  },
  {
   "cell_type": "markdown",
   "metadata": {},
   "source": [
    "The matrices $D$ and $E$ codify two constraints:\n",
    "* Gas generator capacity $$y_1+y_2+y_3\\leq C^g$$\n",
    "* Wind generator capacity $$y_0\\leq C^w$$"
   ]
  },
  {
   "cell_type": "code",
   "execution_count": 6,
   "metadata": {},
   "outputs": [],
   "source": [
    "# Matrices D and E\n",
    "D = np.array([[0,1,1,1],[1,0,0,0]])\n",
    "E = np.array([[Cg],[Cw]])"
   ]
  },
  {
   "cell_type": "markdown",
   "metadata": {},
   "source": [
    "The objective function minimizes costs"
   ]
  },
  {
   "cell_type": "code",
   "execution_count": 7,
   "metadata": {},
   "outputs": [],
   "source": [
    "obj = cp.Minimize(P@y + np.transpose(Q)@x)"
   ]
  },
  {
   "cell_type": "markdown",
   "metadata": {},
   "source": [
    "We add the constraints"
   ]
  },
  {
   "cell_type": "code",
   "execution_count": 8,
   "metadata": {},
   "outputs": [],
   "source": [
    "# Initialize an empty constraint set\n",
    "con_set_1 = [] \n",
    "\n",
    "con_set_1.append(A@x <= B@y + C.flatten())\n",
    "con_set_1.append(D@y <= E.flatten())"
   ]
  },
  {
   "cell_type": "markdown",
   "metadata": {},
   "source": [
    "Now we solve the optimization problem"
   ]
  },
  {
   "cell_type": "code",
   "execution_count": 9,
   "metadata": {},
   "outputs": [
    {
     "name": "stdout",
     "output_type": "stream",
     "text": [
      "Academic license - for non-commercial use only - expires 2022-01-02\n",
      "Using license file C:\\Users\\Rob\\gurobi.lic\n"
     ]
    }
   ],
   "source": [
    "prob1 = cp.Problem(obj, con_set_1)\n",
    "prob1.solve(solver = \"GUROBI\")\n",
    "prob1.solve();"
   ]
  },
  {
   "cell_type": "code",
   "execution_count": 10,
   "metadata": {},
   "outputs": [
    {
     "name": "stdout",
     "output_type": "stream",
     "text": [
      "\n",
      " The optimal wind capacity is: 0.0\n",
      "\n",
      " The optimal base capacity from the gas generator is: 10.0\n",
      "\n",
      " The optimal peak capacity from the gas generator is: 0.0\n",
      "\n",
      " The optimal load following capacity from the gas generator is: 0.0\n"
     ]
    }
   ],
   "source": [
    "print(\"\\n The optimal wind capacity is: %.1f\" % (y[0].value))\n",
    "print(\"\\n The optimal base capacity from the gas generator is: %.1f\" % (y[1].value))\n",
    "print(\"\\n The optimal peak capacity from the gas generator is: %.1f\" % (y[2].value))\n",
    "print(\"\\n The optimal load following capacity from the gas generator is: %.1f\" % (y[3].value))"
   ]
  },
  {
   "cell_type": "code",
   "execution_count": 11,
   "metadata": {
    "scrolled": true
   },
   "outputs": [
    {
     "data": {
      "text/html": [
       "<div>\n",
       "<style scoped>\n",
       "    .dataframe tbody tr th:only-of-type {\n",
       "        vertical-align: middle;\n",
       "    }\n",
       "\n",
       "    .dataframe tbody tr th {\n",
       "        vertical-align: top;\n",
       "    }\n",
       "\n",
       "    .dataframe thead th {\n",
       "        text-align: right;\n",
       "    }\n",
       "</style>\n",
       "<table border=\"1\" class=\"dataframe\">\n",
       "  <thead>\n",
       "    <tr style=\"text-align: right;\">\n",
       "      <th></th>\n",
       "      <th>Demand_s1</th>\n",
       "      <th>GasBase_s1</th>\n",
       "      <th>GasOption_s1</th>\n",
       "      <th>GasPeak_s1</th>\n",
       "      <th>SolarPower_s1</th>\n",
       "      <th>SpotMarket_s1</th>\n",
       "      <th>WindPower_s1</th>\n",
       "      <th>Demand_s2</th>\n",
       "      <th>GasBase_s2</th>\n",
       "      <th>GasOption_s2</th>\n",
       "      <th>...</th>\n",
       "      <th>SolarPower_s4</th>\n",
       "      <th>SpotMarket_s4</th>\n",
       "      <th>WindPower_s4</th>\n",
       "      <th>Demand_s5</th>\n",
       "      <th>GasBase_s5</th>\n",
       "      <th>GasOption_s5</th>\n",
       "      <th>GasPeak_s5</th>\n",
       "      <th>SolarPower_s5</th>\n",
       "      <th>SpotMarket_s5</th>\n",
       "      <th>WindPower_s5</th>\n",
       "    </tr>\n",
       "    <tr>\n",
       "      <th>Time</th>\n",
       "      <th></th>\n",
       "      <th></th>\n",
       "      <th></th>\n",
       "      <th></th>\n",
       "      <th></th>\n",
       "      <th></th>\n",
       "      <th></th>\n",
       "      <th></th>\n",
       "      <th></th>\n",
       "      <th></th>\n",
       "      <th></th>\n",
       "      <th></th>\n",
       "      <th></th>\n",
       "      <th></th>\n",
       "      <th></th>\n",
       "      <th></th>\n",
       "      <th></th>\n",
       "      <th></th>\n",
       "      <th></th>\n",
       "      <th></th>\n",
       "      <th></th>\n",
       "    </tr>\n",
       "  </thead>\n",
       "  <tbody>\n",
       "    <tr>\n",
       "      <th>2021-01-01 00:00:00</th>\n",
       "      <td>7.37568</td>\n",
       "      <td>10.0</td>\n",
       "      <td>5.017297e-11</td>\n",
       "      <td>0.0</td>\n",
       "      <td>0.0</td>\n",
       "      <td>-2.62432</td>\n",
       "      <td>1.999354e-13</td>\n",
       "      <td>7.48512</td>\n",
       "      <td>10.0</td>\n",
       "      <td>4.074669e-11</td>\n",
       "      <td>...</td>\n",
       "      <td>0.0</td>\n",
       "      <td>-2.42848</td>\n",
       "      <td>1.479522e-12</td>\n",
       "      <td>7.58880</td>\n",
       "      <td>10.0</td>\n",
       "      <td>1.575519e-13</td>\n",
       "      <td>0.0</td>\n",
       "      <td>0.0</td>\n",
       "      <td>-2.41120</td>\n",
       "      <td>1.559496e-12</td>\n",
       "    </tr>\n",
       "    <tr>\n",
       "      <th>2021-01-01 00:15:00</th>\n",
       "      <td>7.31808</td>\n",
       "      <td>10.0</td>\n",
       "      <td>5.365484e-11</td>\n",
       "      <td>0.0</td>\n",
       "      <td>0.0</td>\n",
       "      <td>-2.68192</td>\n",
       "      <td>1.999354e-13</td>\n",
       "      <td>7.43328</td>\n",
       "      <td>10.0</td>\n",
       "      <td>4.966558e-11</td>\n",
       "      <td>...</td>\n",
       "      <td>0.0</td>\n",
       "      <td>-2.47168</td>\n",
       "      <td>1.439535e-12</td>\n",
       "      <td>7.51968</td>\n",
       "      <td>10.0</td>\n",
       "      <td>5.083568e-11</td>\n",
       "      <td>0.0</td>\n",
       "      <td>0.0</td>\n",
       "      <td>-2.48032</td>\n",
       "      <td>1.479522e-12</td>\n",
       "    </tr>\n",
       "    <tr>\n",
       "      <th>2021-01-01 00:30:00</th>\n",
       "      <td>7.32960</td>\n",
       "      <td>10.0</td>\n",
       "      <td>4.591906e-11</td>\n",
       "      <td>0.0</td>\n",
       "      <td>0.0</td>\n",
       "      <td>-2.67040</td>\n",
       "      <td>1.999354e-13</td>\n",
       "      <td>7.42464</td>\n",
       "      <td>10.0</td>\n",
       "      <td>4.041417e-11</td>\n",
       "      <td>...</td>\n",
       "      <td>0.0</td>\n",
       "      <td>-2.49760</td>\n",
       "      <td>1.319573e-12</td>\n",
       "      <td>7.49376</td>\n",
       "      <td>10.0</td>\n",
       "      <td>1.413955e-11</td>\n",
       "      <td>0.0</td>\n",
       "      <td>0.0</td>\n",
       "      <td>-2.50624</td>\n",
       "      <td>1.399548e-12</td>\n",
       "    </tr>\n",
       "    <tr>\n",
       "      <th>2021-01-01 00:45:00</th>\n",
       "      <td>7.32960</td>\n",
       "      <td>10.0</td>\n",
       "      <td>1.211435e-11</td>\n",
       "      <td>0.0</td>\n",
       "      <td>0.0</td>\n",
       "      <td>-2.67040</td>\n",
       "      <td>1.599483e-13</td>\n",
       "      <td>7.37568</td>\n",
       "      <td>10.0</td>\n",
       "      <td>4.358924e-11</td>\n",
       "      <td>...</td>\n",
       "      <td>0.0</td>\n",
       "      <td>-2.53216</td>\n",
       "      <td>1.199612e-12</td>\n",
       "      <td>7.46208</td>\n",
       "      <td>10.0</td>\n",
       "      <td>-7.031573e-13</td>\n",
       "      <td>0.0</td>\n",
       "      <td>0.0</td>\n",
       "      <td>-2.53792</td>\n",
       "      <td>1.319573e-12</td>\n",
       "    </tr>\n",
       "    <tr>\n",
       "      <th>2021-01-01 01:00:00</th>\n",
       "      <td>7.28064</td>\n",
       "      <td>10.0</td>\n",
       "      <td>4.344845e-11</td>\n",
       "      <td>0.0</td>\n",
       "      <td>0.0</td>\n",
       "      <td>-2.71936</td>\n",
       "      <td>1.599483e-13</td>\n",
       "      <td>7.35552</td>\n",
       "      <td>10.0</td>\n",
       "      <td>4.944149e-11</td>\n",
       "      <td>...</td>\n",
       "      <td>0.0</td>\n",
       "      <td>-2.58400</td>\n",
       "      <td>1.199612e-12</td>\n",
       "      <td>7.40736</td>\n",
       "      <td>10.0</td>\n",
       "      <td>-7.976264e-13</td>\n",
       "      <td>0.0</td>\n",
       "      <td>0.0</td>\n",
       "      <td>-2.59264</td>\n",
       "      <td>1.319573e-12</td>\n",
       "    </tr>\n",
       "  </tbody>\n",
       "</table>\n",
       "<p>5 rows × 35 columns</p>\n",
       "</div>"
      ],
      "text/plain": [
       "                     Demand_s1  GasBase_s1  GasOption_s1  GasPeak_s1  \\\n",
       "Time                                                                   \n",
       "2021-01-01 00:00:00    7.37568        10.0  5.017297e-11         0.0   \n",
       "2021-01-01 00:15:00    7.31808        10.0  5.365484e-11         0.0   \n",
       "2021-01-01 00:30:00    7.32960        10.0  4.591906e-11         0.0   \n",
       "2021-01-01 00:45:00    7.32960        10.0  1.211435e-11         0.0   \n",
       "2021-01-01 01:00:00    7.28064        10.0  4.344845e-11         0.0   \n",
       "\n",
       "                     SolarPower_s1  SpotMarket_s1  WindPower_s1  Demand_s2  \\\n",
       "Time                                                                         \n",
       "2021-01-01 00:00:00            0.0       -2.62432  1.999354e-13    7.48512   \n",
       "2021-01-01 00:15:00            0.0       -2.68192  1.999354e-13    7.43328   \n",
       "2021-01-01 00:30:00            0.0       -2.67040  1.999354e-13    7.42464   \n",
       "2021-01-01 00:45:00            0.0       -2.67040  1.599483e-13    7.37568   \n",
       "2021-01-01 01:00:00            0.0       -2.71936  1.599483e-13    7.35552   \n",
       "\n",
       "                     GasBase_s2  GasOption_s2      ...       SolarPower_s4  \\\n",
       "Time                                               ...                       \n",
       "2021-01-01 00:00:00        10.0  4.074669e-11      ...                 0.0   \n",
       "2021-01-01 00:15:00        10.0  4.966558e-11      ...                 0.0   \n",
       "2021-01-01 00:30:00        10.0  4.041417e-11      ...                 0.0   \n",
       "2021-01-01 00:45:00        10.0  4.358924e-11      ...                 0.0   \n",
       "2021-01-01 01:00:00        10.0  4.944149e-11      ...                 0.0   \n",
       "\n",
       "                     SpotMarket_s4  WindPower_s4  Demand_s5  GasBase_s5  \\\n",
       "Time                                                                      \n",
       "2021-01-01 00:00:00       -2.42848  1.479522e-12    7.58880        10.0   \n",
       "2021-01-01 00:15:00       -2.47168  1.439535e-12    7.51968        10.0   \n",
       "2021-01-01 00:30:00       -2.49760  1.319573e-12    7.49376        10.0   \n",
       "2021-01-01 00:45:00       -2.53216  1.199612e-12    7.46208        10.0   \n",
       "2021-01-01 01:00:00       -2.58400  1.199612e-12    7.40736        10.0   \n",
       "\n",
       "                     GasOption_s5  GasPeak_s5  SolarPower_s5  SpotMarket_s5  \\\n",
       "Time                                                                          \n",
       "2021-01-01 00:00:00  1.575519e-13         0.0            0.0       -2.41120   \n",
       "2021-01-01 00:15:00  5.083568e-11         0.0            0.0       -2.48032   \n",
       "2021-01-01 00:30:00  1.413955e-11         0.0            0.0       -2.50624   \n",
       "2021-01-01 00:45:00 -7.031573e-13         0.0            0.0       -2.53792   \n",
       "2021-01-01 01:00:00 -7.976264e-13         0.0            0.0       -2.59264   \n",
       "\n",
       "                     WindPower_s5  \n",
       "Time                               \n",
       "2021-01-01 00:00:00  1.559496e-12  \n",
       "2021-01-01 00:15:00  1.479522e-12  \n",
       "2021-01-01 00:30:00  1.399548e-12  \n",
       "2021-01-01 00:45:00  1.319573e-12  \n",
       "2021-01-01 01:00:00  1.319573e-12  \n",
       "\n",
       "[5 rows x 35 columns]"
      ]
     },
     "execution_count": 11,
     "metadata": {},
     "output_type": "execute_result"
    }
   ],
   "source": [
    "data_all = utils.GetAllVariables(x,y,demand,windPF,solarPF,Cs,nScenarios,peakHour,rtPrice,T)\n",
    "\n",
    "data_all.to_csv(\"Results_min_exp_cost.csv\")\n",
    "\n",
    "data_all.head()"
   ]
  },
  {
   "cell_type": "code",
   "execution_count": 13,
   "metadata": {},
   "outputs": [
    {
     "data": {
      "image/png": "[encoded data removed]",
      "text/plain": [
       "<matplotlib.figure.Figure at 0x29590462978>"
      ]
     },
     "metadata": {},
     "output_type": "display_data"
    }
   ],
   "source": [
    "utils.Plot1(x,y,demand,windPF,solarPF,Cs,nScenarios,peakHour,rtPrice,T,\"min_exp_cost\")"
   ]
  },
  {
   "cell_type": "code",
   "execution_count": 14,
   "metadata": {
    "scrolled": true
   },
   "outputs": [
    {
     "data": {
      "text/plain": [
       "2920.0385124844297"
      ]
     },
     "execution_count": 14,
     "metadata": {},
     "output_type": "execute_result"
    }
   ],
   "source": [
    "obj.value"
   ]
  }
 ],
 "metadata": {
  "kernelspec": {
   "display_name": "Python 3",
   "language": "python",
   "name": "python3"
  },
  "language_info": {
   "codemirror_mode": {
    "name": "ipython",
    "version": 3
   },
   "file_extension": ".py",
   "mimetype": "text/x-python",
   "name": "python",
   "nbconvert_exporter": "python",
   "pygments_lexer": "ipython3",
   "version": "3.6.4"
  }
 },
 "nbformat": 4,
 "nbformat_minor": 5
}
