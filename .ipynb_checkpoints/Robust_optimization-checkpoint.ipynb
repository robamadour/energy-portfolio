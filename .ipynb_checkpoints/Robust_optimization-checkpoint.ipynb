{
 "cells": [
  {
   "cell_type": "markdown",
   "metadata": {},
   "source": [
    "# Energy Portfolio Management for Sustainable Campus\n",
    "\n",
    "\n",
    "Add problem description..."
   ]
  },
  {
   "cell_type": "code",
   "execution_count": 1,
   "metadata": {},
   "outputs": [],
   "source": [
    "import cvxpy as cp\n",
    "import numpy as np\n",
    "import pandas as pd\n",
    "import matplotlib.pyplot as plt\n",
    "import matplotlib.dates as mdates\n",
    "from datetime import datetime, timedelta"
   ]
  },
  {
   "cell_type": "markdown",
   "metadata": {},
   "source": [
    "## Parameters"
   ]
  },
  {
   "cell_type": "code",
   "execution_count": 2,
   "metadata": {},
   "outputs": [],
   "source": [
    "T = 96                                   # Number of periods\n",
    "nScenarios = 5                           # Number of scenarios\n",
    "\n",
    "# Contract prices\n",
    "P  = np.array([150, 360, 200, 50]) # Contract prices [$\\MW]\n",
    "pF = 18/4                          # option excercise fee [$\\MW(h\\4)]\n",
    "\n",
    "Cw = 20                            # Maximum wind generator capacity\n",
    "Cg = 10                            # Maximum gas generator capacity\n",
    "Cs = 1                             # Maximum solar generator capacity\n",
    "\n",
    "t = np.array(range(T))             # Periods\n",
    "h = t//4                           # Hour of the day\n",
    "peakHour = ((h>=8)*(h<18))         # Indicator for peak hour (8AM-6PM)\n",
    "\n",
    "pr = np.array([0.2, 0.2, 0.2, 0.2, 0.2]) # Probability of each scenario\n",
    "\n",
    "beta = 0.2"
   ]
  },
  {
   "cell_type": "markdown",
   "metadata": {},
   "source": [
    "We load the demand and generation data from each scenario"
   ]
  },
  {
   "cell_type": "code",
   "execution_count": 3,
   "metadata": {
    "scrolled": true
   },
   "outputs": [],
   "source": [
    "scenarios = [\"scenarios/Scenario1.csv\",\"scenarios/Scenario2.csv\",\n",
    "            \"scenarios/Scenario3.csv\",\"scenarios/Scenario4.csv\",\n",
    "            \"scenarios/Scenario5.csv\"]\n",
    "T = 96                                   # Number of periods\n",
    "nScenarios = 5                           # Number of scenarios\n",
    "demand = np.empty([T,nScenarios])\n",
    "windPF = np.empty([T,nScenarios])\n",
    "solarPF = np.empty([T,nScenarios])\n",
    "rtPrice = np.empty([T,nScenarios])\n",
    "\n",
    "for i in range(nScenarios):\n",
    "    scenario = pd.read_csv(scenarios[i])\n",
    "    demand[:,i] = scenario.iloc[:T,1]/1000\n",
    "    windPF[:,i] = scenario.iloc[:T,2]\n",
    "    solarPF[:,i] = scenario.iloc[:T,3]\n",
    "    rtPrice[:,i] = scenario.iloc[:T,4]/4"
   ]
  },
  {
   "cell_type": "markdown",
   "metadata": {},
   "source": [
    "## Decision variables\n",
    "\n",
    "The decision variables are of two types:\n",
    "* $y$: The amount of capacity to buy from each contract. Specifically, $y=(y_0,y_1,y_2,y_3)$, where $y_0$ is wind generation, $y_1$ is base load service, $y_2$ is peak load service and $y_3$ is load following sercice.\n",
    "* $x$: The power to buy/sold in the operation day. $x$ specifies values for each scenario and each period. Specifically, let $x^o_{\\omega t}$ be the amount of power to but from the option call contract in scenario $\\omega$ and period $t$, and let $x_{\\omega t}^m$ be the amount of power to buy/sell in the spot market in order to balance demand and generation. We stack these variables in vectors as $$x^o = (\\underbrace{x^o_{11},\\dots,x^o_{1t},\\dots,x^o_{1T},}_{scenario \\,\\,1}\\dots,\\underbrace{x^o_{51},\\dots,x^o_{5t},\\dots,x^o_{5T}}_{scenario\\,\\, 5})$$ and\n",
    "$$x^m = (\\underbrace{x^o_{11},\\dots,x^m_{1t},\\dots,x^m_{1T},}_{scenario \\,\\,1}\\dots,\\underbrace{x^m_{51},\\dots,x^m_{5t},\\dots,x^m_{5T}}_{scenario\\,\\, 5}).$$ And then we stack all the valiable into one vector: $$x = (x^o,x^m)^t.$$"
   ]
  },
  {
   "cell_type": "code",
   "execution_count": 4,
   "metadata": {},
   "outputs": [],
   "source": [
    "x = cp.Variable(2*T*nScenarios)\n",
    "y = cp.Variable(4,nonneg = True)\n",
    "M = cp.Variable(nScenarios,nonneg = True)\n",
    "alpha = cp.Variable(1)"
   ]
  },
  {
   "cell_type": "markdown",
   "metadata": {},
   "source": [
    "## Constraints and Objective function\n",
    "\n",
    "We will write the problem in matrix form as:\n",
    "$$\\min_{x,y} P^ty + Q^tx,\\,\\,\\mbox{s.t.}\\, Ax\\leq By+C,\\, Dy\\leq E $$\n",
    "\n",
    "### Objective function\n",
    "The vector $Q$ contains two sub-vectors $Q=(Q_1,Q_2)$ so that $Q^tx=Q_1^tx^o+Q_2^tx^m$.\n",
    "\n",
    "We define $$Q_1 = pF(\\underbrace{Pr_{1},\\dots,Pr_1}_{T\\,\\, times},\\dots,\\underbrace{Pr_{5},\\dots,Pr_5}_{T\\,\\, times}),$$\n",
    "where $pF$ is the option exercise fee and $Pr_{\\omega}$ is the probability of scenario $\\omega$. For $Q_2$ we have\n",
    "$$Q_2 = (Pr_{1}p_{11},\\dots,Pr_1p_{1T},\\dots,Pr_{5}p_{51},\\dots,Pr_5p_{5T}),$$\n",
    "where $p_{\\omega t}$ is the real time price in scenario $\\omega$ at time $t$.\n",
    "\n",
    "The vector $P$ contains the capacity prices for each contract.\n",
    "\n",
    "### Constraints\n",
    "\n",
    "The matrices A,B and C are defined by three blocks: $A = [A_1^t,A_2^t,A_3^t]^t$, $B = [B_1^t,B_2^t,B_3^t]^t$ and $C = [C_1^t,C_2^t,C_3^t]^t$.\n",
    "\n",
    "The first block codifies the inequality constraint $$x^o_{\\omega t}\\leq y_3,$$\n",
    "so we define $$A_1 = [I_{(5T,5T)}, 0_{(5T,5T)}],$$\n",
    "$$B_1 = [0_{(5T,3)}, 1_{(5T,1)}],\\,\\, C_1 = 0_{(5T,1)}$$\n",
    "where $I_{(5T,5T)}$ is the identity matrix of dimension $5T$ (number of scenarios times the number of periods), and $0_{(n1,n2)},1_{(n1,n2)}$ are matrices of zeros and ones respectively. \n",
    "\n",
    "The second block codifies the nonnegativity constraint\n",
    "$$x^o_{\\omega t}\\geq 0,$$\n",
    "so, \n",
    "$$A_2 = -[I_{(5T,5T)}, 0_{(5T,5T)}],$$\n",
    "$$B_2 = 0_{(5T,4)},\\,\\, C_1 = 0_{(5T,1)}$$\n",
    "\n",
    "And the third block codifies the market balance constraint\n",
    "$$demand_{\\omega t} \\leq x^o_{\\omega t}+ x^m_{\\omega t} + \\underbrace{y_0f^w_{\\omega t}}_{wind\\,power}+\\underbrace{y_1}_{base\\,power}\n",
    "+\\underbrace{y_2\\delta_{t}}_{peak\\,power}+\\underbrace{C^sf^s_{\\omega t}}_{solar\\,power},$$\n",
    "where $f^w_{\\omega t}$, $f^s_{\\omega t}$ are the wind and solar power factors, $C^s$ is solar capacity (1 MW), the peak hour indicator $\\delta_t$ is 1 if $t$ is between 8AM and 6PM.\n",
    "We define \n",
    "$$A_3 = -[I_{(5T,5T)}, I_{(5T,5T)}],$$\n",
    "$$B_3 = [f^w ,1_{(5T,1)},\\Delta,0],\\,\\, C_3 = C^sf^s-Demand$$\n",
    "\n",
    "where $f^w$, $f^s$, $Demand$ and $\\Delta$ are the vectors of power factors, demand and peak hour indicators in each scenario and period pair."
   ]
  },
  {
   "cell_type": "code",
   "execution_count": 5,
   "metadata": {},
   "outputs": [],
   "source": [
    "# Matrices Q, A, B and C\n",
    "Q = np.empty([2*T*nScenarios,1])\n",
    "A = np.zeros([3*T*nScenarios,2*T*nScenarios])\n",
    "B = np.zeros([3*T*nScenarios,4])\n",
    "C = np.zeros([3*T*nScenarios,1])\n",
    "\n",
    "# Matrices Q, A, B and C\n",
    "Qs1 = np.empty([2*T*nScenarios,1])\n",
    "Qs2 = np.empty([2*T*nScenarios,1])\n",
    "Qs3 = np.empty([2*T*nScenarios,1])\n",
    "Qs4 = np.empty([2*T*nScenarios,1])\n",
    "Qs5 = np.empty([2*T*nScenarios,1])\n",
    "\n",
    "# First set of constraints x^o_{wt} \\leq y_4\n",
    "A[:(T*nScenarios),:(T*nScenarios)] = np.identity(T*nScenarios)\n",
    "B[:(T*nScenarios),3] = 1 \n",
    "\n",
    "# Second set of constraints x^o_{wt} \\geq 0\n",
    "A[(T*nScenarios):(2*T*nScenarios),\n",
    "  :(T*nScenarios)] = -np.identity(T*nScenarios)\n",
    "\n",
    "for i in range(nScenarios):\n",
    "    \n",
    "    # Costs in bjective function Q1: option fee, Q2: market price\n",
    "    Q1 = np.ones((T,1))*pr[i]*pF\n",
    "    Q2 = rtPrice[:,i]*pr[i]\n",
    "    Q[(T*i):(T*(i+1)),:] = Q1\n",
    "    Q[(T*nScenarios+T*i):(T*nScenarios+T*(i+1)),:] = Q2.reshape((T, 1))\n",
    "    \n",
    "    # Third set of constraints \n",
    "    # -x^o_{wt}-x^m_{wt} \\leq -demand + solar + wind + base_load + peak_load\n",
    "    A[(2*T*nScenarios+T*i):(2*T*nScenarios+T*(i+1)),\n",
    "     (T*i):(T*(i+1))] = - np.identity(T) \n",
    "    \n",
    "    A[(2*T*nScenarios+T*i):(2*T*nScenarios+T*(i+1)),\n",
    "     (T*nScenarios+T*i):(T*nScenarios+T*(i+1))] = - np.identity(T) \n",
    "    \n",
    "    B[(2*T*nScenarios+T*i):\n",
    "      (2*T*nScenarios+T*(i+1)),0] = (windPF[:,i])\n",
    "    \n",
    "    B[(2*T*nScenarios+T*i):\n",
    "      (2*T*nScenarios+T*(i+1)),1] = np.ones(T)\n",
    "    \n",
    "    B[(2*T*nScenarios+T*i):\n",
    "      (2*T*nScenarios+T*(i+1)),2] = peakHour\n",
    "    \n",
    "    C[(2*T*nScenarios+T*i):\n",
    "      (2*T*nScenarios+T*(i+1)),0] =  Cs*solarPF[:,i]-demand[:,i]\n",
    "    \n",
    "    \n",
    "    # Costs in bjective function Q1: option fee, Q2: market price\n",
    "    Q1 = np.ones((T,1))*pF\n",
    "    Q2 = rtPrice[:,i]\n",
    "    \n",
    "    if (i == 0):\n",
    "        Qs1[(T*i):(T*(i+1)),:] = Q1\n",
    "        Qs1[(T*nScenarios+T*i):(T*nScenarios+T*(i+1)),:] = Q2.reshape((T, 1))\n",
    "    elif (i == 1):\n",
    "        Qs2[(T*i):(T*(i+1)),:] = Q1\n",
    "        Qs2[(T*nScenarios+T*i):(T*nScenarios+T*(i+1)),:] = Q2.reshape((T, 1))\n",
    "    elif (i == 2):\n",
    "        Qs3[(T*i):(T*(i+1)),:] = Q1\n",
    "        Qs3[(T*nScenarios+T*i):(T*nScenarios+T*(i+1)),:] = Q2.reshape((T, 1))\n",
    "    elif (i == 3):\n",
    "        Qs5[(T*i):(T*(i+1)),:] = Q1\n",
    "        Qs5[(T*nScenarios+T*i):(T*nScenarios+T*(i+1)),:] = Q2.reshape((T, 1))\n",
    "    elif (i == 4):\n",
    "        Qs5[(T*i):(T*(i+1)),:] = Q1\n",
    "        Qs5[(T*nScenarios+T*i):(T*nScenarios+T*(i+1)),:] = Q2.reshape((T, 1))\n",
    "    "
   ]
  },
  {
   "cell_type": "markdown",
   "metadata": {},
   "source": [
    "The matrices $D$ and $E$ codify two constraints:\n",
    "* Gas generator capacity $$y_1+y_2+y_3\\leq C^g$$\n",
    "* Wind generator capacity $$y_0\\leq C^w$$"
   ]
  },
  {
   "cell_type": "code",
   "execution_count": 6,
   "metadata": {},
   "outputs": [],
   "source": [
    "# Matrices D and E\n",
    "D = np.array([[0,1,1,1],[1,0,0,0]])\n",
    "E = np.array([[Cg],[Cw]])"
   ]
  },
  {
   "cell_type": "markdown",
   "metadata": {},
   "source": [
    "The objective function minimizes costs"
   ]
  },
  {
   "cell_type": "code",
   "execution_count": 7,
   "metadata": {},
   "outputs": [],
   "source": [
    "obj = cp.Minimize(alpha + 1/(nScenarios*(1-beta))*sum(M))"
   ]
  },
  {
   "cell_type": "markdown",
   "metadata": {},
   "source": [
    "We add the constraints"
   ]
  },
  {
   "cell_type": "code",
   "execution_count": 8,
   "metadata": {},
   "outputs": [],
   "source": [
    "# Initialize an empty constraint set\n",
    "con_set_1 = [] \n",
    "\n",
    "con_set_1.append(A@x <= B@y + C.flatten())\n",
    "con_set_1.append(D@y <= E.flatten())\n",
    "\n",
    "con_set_1.append(M[0] >= P@y + np.transpose(Qs1)@x - alpha)\n",
    "con_set_1.append(M[1] >= P@y + np.transpose(Qs2)@x - alpha)\n",
    "con_set_1.append(M[2] >= P@y + np.transpose(Qs3)@x - alpha)\n",
    "con_set_1.append(M[3] >= P@y + np.transpose(Qs4)@x - alpha)\n",
    "con_set_1.append(M[4] >= P@y + np.transpose(Qs5)@x - alpha)"
   ]
  },
  {
   "cell_type": "markdown",
   "metadata": {},
   "source": [
    "Now we solve the optimization problem"
   ]
  },
  {
   "cell_type": "code",
   "execution_count": 9,
   "metadata": {},
   "outputs": [
    {
     "name": "stdout",
     "output_type": "stream",
     "text": [
      "Academic license - for non-commercial use only - expires 2022-01-02\n",
      "Using license file C:\\Users\\Rob\\gurobi.lic\n"
     ]
    }
   ],
   "source": [
    "prob1 = cp.Problem(obj, con_set_1)\n",
    "prob1.solve(solver = \"GUROBI\")\n",
    "prob1.solve();"
   ]
  },
  {
   "cell_type": "code",
   "execution_count": 10,
   "metadata": {},
   "outputs": [
    {
     "name": "stdout",
     "output_type": "stream",
     "text": [
      "\n",
      " The optimal wind capacity is: 0.0\n",
      "\n",
      " The optimal base capacity from the gas generator is: 8.5\n",
      "\n",
      " The optimal peak capacity from the gas generator is: 0.0\n",
      "\n",
      " The optimal load following capacity from the gas generator is: 1.5\n",
      "\n",
      " alpha = 2957.1\n",
      "\n",
      " M[0] = 74.2\n",
      "\n",
      " M[1] = 0.0\n",
      "\n",
      " M[2] = 181.4\n",
      "\n",
      " M[3] = 176.8\n",
      "\n",
      " M[4] = 0.0\n"
     ]
    }
   ],
   "source": [
    "print(\"\\n The optimal wind capacity is: %.1f\" % (y[0].value))\n",
    "print(\"\\n The optimal base capacity from the gas generator is: %.1f\" % (y[1].value))\n",
    "print(\"\\n The optimal peak capacity from the gas generator is: %.1f\" % (y[2].value))\n",
    "print(\"\\n The optimal load following capacity from the gas generator is: %.1f\" % (y[3].value))\n",
    "print(\"\\n alpha = %.1f\" % (alpha.value))\n",
    "for i in range(nScenarios):\n",
    "    print(\"\\n M[\"+ str(i) +\"] = %.1f\" % (M[i].value))"
   ]
  },
  {
   "cell_type": "code",
   "execution_count": 11,
   "metadata": {},
   "outputs": [],
   "source": [
    "def GetScenario(s,x,y,demand,windPF,solarPF,rtPrice,T):\n",
    "    data = pd.DataFrame({\"Demand\" : demand[:T,s],\n",
    "                        \"WindPower\": y[0].value*windPF[:T,s],\n",
    "                       \"SolarPower\": Cs*solarPF[:T,s],\n",
    "                       \"GasBase\" : y[1].value,\n",
    "                       \"GasPeak\": y[2].value*peakHour,\n",
    "                       \"GasOption\": x[(s*T):((s+1)*T)].value,\n",
    "                       \"SpotMarket\": x[(nScenarios*T+s*T):\n",
    "                                         (nScenarios*T+(s+1)*T)].value,\n",
    "                       \"Time\": pd.date_range('2021-01-01 00:00', '2021-01-01 23:45', freq = '15min')\n",
    "                        })\n",
    "    data.Time = data.Time.dt.strftime('%H:%M')\n",
    "    data = data.set_index('Time')\n",
    "    return(data)\n",
    "\n"
   ]
  },
  {
   "cell_type": "code",
   "execution_count": 12,
   "metadata": {},
   "outputs": [
    {
     "data": {
      "text/html": [
       "<div>\n",
       "<style scoped>\n",
       "    .dataframe tbody tr th:only-of-type {\n",
       "        vertical-align: middle;\n",
       "    }\n",
       "\n",
       "    .dataframe tbody tr th {\n",
       "        vertical-align: top;\n",
       "    }\n",
       "\n",
       "    .dataframe thead th {\n",
       "        text-align: right;\n",
       "    }\n",
       "</style>\n",
       "<table border=\"1\" class=\"dataframe\">\n",
       "  <thead>\n",
       "    <tr style=\"text-align: right;\">\n",
       "      <th></th>\n",
       "      <th>Demand</th>\n",
       "      <th>GasBase</th>\n",
       "      <th>GasOption</th>\n",
       "      <th>GasPeak</th>\n",
       "      <th>SolarPower</th>\n",
       "      <th>SpotMarket</th>\n",
       "      <th>WindPower</th>\n",
       "    </tr>\n",
       "    <tr>\n",
       "      <th>Time</th>\n",
       "      <th></th>\n",
       "      <th></th>\n",
       "      <th></th>\n",
       "      <th></th>\n",
       "      <th></th>\n",
       "      <th></th>\n",
       "      <th></th>\n",
       "    </tr>\n",
       "  </thead>\n",
       "  <tbody>\n",
       "    <tr>\n",
       "      <th>00:00</th>\n",
       "      <td>7.37568</td>\n",
       "      <td>8.49665</td>\n",
       "      <td>1.503350e+00</td>\n",
       "      <td>0.0</td>\n",
       "      <td>0.0</td>\n",
       "      <td>-2.62432</td>\n",
       "      <td>0.0</td>\n",
       "    </tr>\n",
       "    <tr>\n",
       "      <th>00:15</th>\n",
       "      <td>7.31808</td>\n",
       "      <td>8.49665</td>\n",
       "      <td>1.503350e+00</td>\n",
       "      <td>0.0</td>\n",
       "      <td>0.0</td>\n",
       "      <td>-2.68192</td>\n",
       "      <td>0.0</td>\n",
       "    </tr>\n",
       "    <tr>\n",
       "      <th>00:30</th>\n",
       "      <td>7.32960</td>\n",
       "      <td>8.49665</td>\n",
       "      <td>1.503350e+00</td>\n",
       "      <td>0.0</td>\n",
       "      <td>0.0</td>\n",
       "      <td>-2.67040</td>\n",
       "      <td>0.0</td>\n",
       "    </tr>\n",
       "    <tr>\n",
       "      <th>00:45</th>\n",
       "      <td>7.32960</td>\n",
       "      <td>8.49665</td>\n",
       "      <td>2.143900e-09</td>\n",
       "      <td>0.0</td>\n",
       "      <td>0.0</td>\n",
       "      <td>-1.16705</td>\n",
       "      <td>0.0</td>\n",
       "    </tr>\n",
       "    <tr>\n",
       "      <th>01:00</th>\n",
       "      <td>7.28064</td>\n",
       "      <td>8.49665</td>\n",
       "      <td>1.503350e+00</td>\n",
       "      <td>0.0</td>\n",
       "      <td>0.0</td>\n",
       "      <td>-2.71936</td>\n",
       "      <td>0.0</td>\n",
       "    </tr>\n",
       "  </tbody>\n",
       "</table>\n",
       "</div>"
      ],
      "text/plain": [
       "        Demand  GasBase     GasOption  GasPeak  SolarPower  SpotMarket  \\\n",
       "Time                                                                     \n",
       "00:00  7.37568  8.49665  1.503350e+00      0.0         0.0    -2.62432   \n",
       "00:15  7.31808  8.49665  1.503350e+00      0.0         0.0    -2.68192   \n",
       "00:30  7.32960  8.49665  1.503350e+00      0.0         0.0    -2.67040   \n",
       "00:45  7.32960  8.49665  2.143900e-09      0.0         0.0    -1.16705   \n",
       "01:00  7.28064  8.49665  1.503350e+00      0.0         0.0    -2.71936   \n",
       "\n",
       "       WindPower  \n",
       "Time              \n",
       "00:00        0.0  \n",
       "00:15        0.0  \n",
       "00:30        0.0  \n",
       "00:45        0.0  \n",
       "01:00        0.0  "
      ]
     },
     "execution_count": 12,
     "metadata": {},
     "output_type": "execute_result"
    }
   ],
   "source": [
    "data = GetScenario(0,x,y,demand,windPF,solarPF,rtPrice,T)\n",
    "data.head()"
   ]
  },
  {
   "cell_type": "code",
   "execution_count": 13,
   "metadata": {},
   "outputs": [
    {
     "data": {
      "image/png": "[encoded data removed]",
      "text/plain": [
       "<matplotlib.figure.Figure at 0x1a6974d6278>"
      ]
     },
     "metadata": {},
     "output_type": "display_data"
    }
   ],
   "source": [
    "ax = data[['SolarPower','WindPower','GasBase','GasPeak','GasOption',\"SpotMarket\"]].plot(kind='bar', stacked=True)\n",
    "\n",
    "# set hourly locator\n",
    "ax.xaxis.set_major_locator(mdates.HourLocator(interval=1))\n",
    "# set formatter\n",
    "ax.xaxis.set_major_formatter(mdates.DateFormatter('%H:%M'))\n",
    "# set font and rotation for date tick labels\n",
    "plt.gcf().autofmt_xdate()                                                                                   \n",
    "\n",
    "plt.show()"
   ]
  },
  {
   "cell_type": "code",
   "execution_count": 14,
   "metadata": {
    "scrolled": true
   },
   "outputs": [
    {
     "data": {
      "text/plain": [
       "3065.2402023188138"
      ]
     },
     "execution_count": 14,
     "metadata": {},
     "output_type": "execute_result"
    }
   ],
   "source": [
    "obj.value"
   ]
  }
 ],
 "metadata": {
  "kernelspec": {
   "display_name": "Python 3",
   "language": "python",
   "name": "python3"
  },
  "language_info": {
   "codemirror_mode": {
    "name": "ipython",
    "version": 3
   },
   "file_extension": ".py",
   "mimetype": "text/x-python",
   "name": "python",
   "nbconvert_exporter": "python",
   "pygments_lexer": "ipython3",
   "version": "3.6.4"
  }
 },
 "nbformat": 4,
 "nbformat_minor": 5
}
